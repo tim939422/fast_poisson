{
 "cells": [
  {
   "cell_type": "code",
   "execution_count": 1,
   "metadata": {},
   "outputs": [],
   "source": [
    "import numpy as np\n",
    "from helpers import tridag\n",
    "from helpers import create_laplacian"
   ]
  },
  {
   "cell_type": "code",
   "execution_count": 2,
   "metadata": {},
   "outputs": [],
   "source": [
    "dzc_f = np.fromfile('scratch/fortran/dzc.bin')\n",
    "dzf_f = np.fromfile('scratch/fortran/dzf.bin')\n",
    "\n",
    "dzc_p = np.fromfile('scratch/python/dzc.bin')\n",
    "dzf_p = np.fromfile('scratch/python/dzf.bin')\n"
   ]
  },
  {
   "cell_type": "code",
   "execution_count": 26,
   "metadata": {},
   "outputs": [
    {
     "data": {
      "text/plain": [
       "array([0.06219392, 0.06219392, 0.07857989, 0.09734117, 0.1176739 ,\n",
       "       0.13812742, 0.15664328, 0.17084723, 0.17859319, 0.17859319,\n",
       "       0.17084723, 0.15664328, 0.13812742, 0.1176739 , 0.09734117,\n",
       "       0.07857989, 0.06219392, 0.06219392])"
      ]
     },
     "execution_count": 26,
     "metadata": {},
     "output_type": "execute_result"
    }
   ],
   "source": [
    "dzc_f"
   ]
  },
  {
   "cell_type": "code",
   "execution_count": 27,
   "metadata": {},
   "outputs": [
    {
     "data": {
      "text/plain": [
       "array([0.06219392, 0.06219392, 0.07857989, 0.09734117, 0.1176739 ,\n",
       "       0.13812742, 0.15664328, 0.17084723, 0.17859319, 0.17859319,\n",
       "       0.17084723, 0.15664328, 0.13812742, 0.1176739 , 0.09734117,\n",
       "       0.07857989, 0.06219392, 0.06219392])"
      ]
     },
     "execution_count": 27,
     "metadata": {},
     "output_type": "execute_result"
    }
   ],
   "source": [
    "dzc_p"
   ]
  },
  {
   "cell_type": "code",
   "execution_count": 2,
   "metadata": {},
   "outputs": [
    {
     "name": "stdout",
     "output_type": "stream",
     "text": [
      "True\n",
      "True\n",
      "True\n",
      "True\n",
      "True\n"
     ]
    }
   ],
   "source": [
    "a_f = np.fromfile('scratch/fortran/a.bin')\n",
    "bb_f = np.fromfile('scratch/fortran/bb.bin')\n",
    "c_f = np.fromfile('scratch/fortran/c.bin')\n",
    "r_f = np.fromfile('scratch/fortran/r.bin')\n",
    "u_f = np.fromfile('scratch/fortran/u.bin')\n",
    "\n",
    "a_p = np.fromfile('scratch/python/a.bin')\n",
    "bb_p = np.fromfile('scratch/python/bb.bin')\n",
    "c_p = np.fromfile('scratch/python/c.bin')\n",
    "r_p = np.fromfile('scratch/python/r.bin')\n",
    "u_p = np.fromfile('scratch/python/u.bin')\n",
    "\n",
    "print(np.allclose(a_f, a_p))\n",
    "print(np.allclose(bb_f, bb_p))\n",
    "print(np.allclose(c_f, c_p))\n",
    "print(np.allclose(r_f, r_p))\n",
    "print(np.allclose(u_f, u_p))"
   ]
  },
  {
   "cell_type": "code",
   "execution_count": 24,
   "metadata": {},
   "outputs": [
    {
     "data": {
      "text/plain": [
       "array([-7.77156117e-16,  1.88737914e-15, -6.66133815e-16,  1.22124533e-15,\n",
       "       -9.99200722e-16,  2.77555756e-16,  5.55111512e-17,  2.91433544e-16,\n",
       "       -6.93889390e-17,  1.66533454e-16, -2.22044605e-16,  9.99200722e-16,\n",
       "        3.55271368e-15,  8.88178420e-16, -1.88737914e-15,  7.77156117e-16])"
      ]
     },
     "execution_count": 24,
     "metadata": {},
     "output_type": "execute_result"
    }
   ],
   "source": [
    "r_p"
   ]
  },
  {
   "cell_type": "code",
   "execution_count": 33,
   "metadata": {},
   "outputs": [
    {
     "data": {
      "text/plain": [
       "4.3298697960381105e-15"
      ]
     },
     "execution_count": 33,
     "metadata": {},
     "output_type": "execute_result"
    }
   ],
   "source": [
    "r_f[4] - r_p[4]"
   ]
  },
  {
   "cell_type": "code",
   "execution_count": 34,
   "metadata": {},
   "outputs": [
    {
     "data": {
      "text/plain": [
       "4.3298697960381105e-15"
      ]
     },
     "execution_count": 34,
     "metadata": {},
     "output_type": "execute_result"
    }
   ],
   "source": [
    "np.linalg.norm(r_f - r_p)"
   ]
  },
  {
   "cell_type": "code",
   "execution_count": 30,
   "metadata": {},
   "outputs": [
    {
     "name": "stdout",
     "output_type": "stream",
     "text": [
      "[0.23844214 0.23844214 0.23844214 0.23844214 0.23844214 0.23844214\n",
      " 0.23844214 0.23844214 0.23844214 0.23844214 0.23844214 0.23844214\n",
      " 0.23844214 0.23844214 0.23844214 0.23844214]\n"
     ]
    }
   ],
   "source": [
    "test = r_f.copy()\n",
    "#test[4] = -9.99200722e-16\n",
    "tridag(a_f, bb_f, c_f, test, a_f.size)\n",
    "print(test)"
   ]
  },
  {
   "cell_type": "code",
   "execution_count": 5,
   "metadata": {},
   "outputs": [
    {
     "name": "stdout",
     "output_type": "stream",
     "text": [
      "[0.12595423 0.12595423 0.12595423 0.12595423 0.12595423 0.12595423\n",
      " 0.12595423 0.12595423 0.12595423 0.12595423 0.12595423 0.12595423\n",
      " 0.12595423 0.12595423 0.12595423 0.12595423]\n"
     ]
    }
   ],
   "source": [
    "test = r_p.copy()\n",
    "tridag(a_p, bb_p, c_p, test, a_p.size)\n",
    "print(test)"
   ]
  },
  {
   "cell_type": "code",
   "execution_count": 17,
   "metadata": {},
   "outputs": [
    {
     "name": "stdout",
     "output_type": "stream",
     "text": [
      "[0.12595423 0.12595423 0.12595423 0.12595423 0.12595423 0.12595423\n",
      " 0.12595423 0.12595423 0.12595423 0.12595423 0.12595423 0.12595423\n",
      " 0.12595423 0.12595423 0.12595423 0.12595423]\n"
     ]
    }
   ],
   "source": [
    "a, b, c = create_laplacian(16, dzf_f, dzc_f)\n",
    "test = r_p.copy()\n",
    "tridag(a_p, bb_p, c_p, r_p, 16)\n",
    "print(test)"
   ]
  },
  {
   "cell_type": "code",
   "execution_count": 19,
   "metadata": {},
   "outputs": [
    {
     "data": {
      "text/plain": [
       "array([4.73798685e+13, 4.73798685e+13, 4.73798685e+13, 4.73798685e+13,\n",
       "       4.73798685e+13, 4.73798685e+13, 4.73798685e+13, 4.73798685e+13,\n",
       "       4.73798685e+13, 4.73798685e+13, 4.73798685e+13, 4.73798685e+13,\n",
       "       4.73798685e+13, 4.73798685e+13, 4.73798685e+13, 4.73798685e+13])"
      ]
     },
     "execution_count": 19,
     "metadata": {},
     "output_type": "execute_result"
    }
   ],
   "source": [
    "r_p"
   ]
  },
  {
   "cell_type": "code",
   "execution_count": 20,
   "metadata": {},
   "outputs": [
    {
     "data": {
      "text/plain": [
       "array([-7.77156117e-16,  1.88737914e-15, -6.66133815e-16,  1.22124533e-15,\n",
       "        3.33066907e-15,  2.77555756e-16,  5.55111512e-17,  2.91433544e-16,\n",
       "       -6.93889390e-17,  1.66533454e-16, -2.22044605e-16,  9.99200722e-16,\n",
       "        3.55271368e-15,  8.88178420e-16, -1.88737914e-15,  7.77156117e-16])"
      ]
     },
     "execution_count": 20,
     "metadata": {},
     "output_type": "execute_result"
    }
   ],
   "source": [
    "r_f"
   ]
  }
 ],
 "metadata": {
  "kernelspec": {
   "display_name": "regular_stack",
   "language": "python",
   "name": "python3"
  },
  "language_info": {
   "codemirror_mode": {
    "name": "ipython",
    "version": 3
   },
   "file_extension": ".py",
   "mimetype": "text/x-python",
   "name": "python",
   "nbconvert_exporter": "python",
   "pygments_lexer": "ipython3",
   "version": "3.11.8"
  }
 },
 "nbformat": 4,
 "nbformat_minor": 2
}
