{
 "cells": [
  {
   "cell_type": "code",
   "execution_count": 1,
   "metadata": {},
   "outputs": [],
   "source": [
    "import numpy as np\n",
    "from helpers import staggered_twoside_stretched_grid, staggered_metric, create_laplacian, tridag\n",
    "import matplotlib.pyplot as plt\n",
    "import scienceplots\n",
    "plt.style.use([\"science\", \"notebook\"])"
   ]
  },
  {
   "cell_type": "code",
   "execution_count": 2,
   "metadata": {},
   "outputs": [
    {
     "name": "stdout",
     "output_type": "stream",
     "text": [
      "5.385876772519555e-09\n"
     ]
    }
   ],
   "source": [
    "N  = 8192\n",
    "H  = 2\n",
    "beta = 1.2\n",
    "\n",
    "zf, zc = staggered_twoside_stretched_grid(N, H, beta)\n",
    "dzf, dzc = staggered_metric(N, zf, zc)\n",
    "\n",
    "a, b, c = create_laplacian(N, dzf, dzc)\n",
    "\n",
    "# source term\n",
    "S = -0.25*np.pi**2*np.cos(0.5*np.pi*zc[1:-1])\n",
    "tridag(a, b, c, S, N)\n",
    "\n",
    "phi = np.zeros(N + 2)\n",
    "phi[1:-1] = S[:]\n",
    "\n",
    "# BC\n",
    "phi[0] = phi[1]\n",
    "phi[N + 1] = phi[N]\n",
    "\n",
    "dphidz = (phi[1:] - phi[:-1])/dzf[:-1]\n",
    "\n",
    "sol = -0.5*np.pi*np.sin(np.pi*zf[:-1]/2)\n",
    "relative_error = np.linalg.norm(dphidz - sol)/np.linalg.norm(sol)\n",
    "print(relative_error)"
   ]
  }
 ],
 "metadata": {
  "kernelspec": {
   "display_name": "regular_stack",
   "language": "python",
   "name": "python3"
  },
  "language_info": {
   "codemirror_mode": {
    "name": "ipython",
    "version": 3
   },
   "file_extension": ".py",
   "mimetype": "text/x-python",
   "name": "python",
   "nbconvert_exporter": "python",
   "pygments_lexer": "ipython3",
   "version": "3.11.8"
  }
 },
 "nbformat": 4,
 "nbformat_minor": 2
}
