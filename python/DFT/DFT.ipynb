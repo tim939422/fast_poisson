{
 "cells": [
  {
   "cell_type": "code",
   "execution_count": 1,
   "metadata": {},
   "outputs": [],
   "source": [
    "import numpy as np\n",
    "from helpers import fftw_hc2r, fftw_r2hc"
   ]
  },
  {
   "cell_type": "code",
   "execution_count": 2,
   "metadata": {},
   "outputs": [
    {
     "name": "stdout",
     "output_type": "stream",
     "text": [
      "    1  1.822000000000e+01\n",
      "    2 -6.735533905933e-01\n",
      "    3 -8.000000000000e-02\n",
      "    4  3.355339059327e-02\n",
      "    5 -8.780000000000e+00\n",
      "    6  1.036396103068e+00\n",
      "    7  2.900000000000e+00\n",
      "    8  2.363961030679e-01\n",
      "True\n"
     ]
    }
   ],
   "source": [
    "a = np.array([1.0, 2.3, 1.4, 4.0, 1.32, 3.0, 1.0, 4.2])\n",
    "a_tilde = fftw_r2hc(a)\n",
    "# compare with fftw3_usage/test_1d_r2r.out\n",
    "for i in range(len(a_tilde)):\n",
    "    print(f'{i+1:5d}{a_tilde[i]:20.12e}')\n",
    "\n",
    "# check inverse transform\n",
    "norm = 1/len(a)\n",
    "print(np.allclose(a, fftw_hc2r(a_tilde)*norm))"
   ]
  },
  {
   "cell_type": "code",
   "execution_count": 3,
   "metadata": {},
   "outputs": [
    {
     "name": "stdout",
     "output_type": "stream",
     "text": [
      "True\n"
     ]
    }
   ],
   "source": [
    "n = 128\n",
    "a = np.random.random(n)\n",
    "a_tilde = fftw_r2hc(a)\n",
    "# check inverse transform\n",
    "norm = 1/len(a)\n",
    "print(np.allclose(a, fftw_hc2r(a_tilde)*norm))"
   ]
  }
 ],
 "metadata": {
  "kernelspec": {
   "display_name": "regular_stack",
   "language": "python",
   "name": "python3"
  },
  "language_info": {
   "codemirror_mode": {
    "name": "ipython",
    "version": 3
   },
   "file_extension": ".py",
   "mimetype": "text/x-python",
   "name": "python",
   "nbconvert_exporter": "python",
   "pygments_lexer": "ipython3",
   "version": "3.11.8"
  }
 },
 "nbformat": 4,
 "nbformat_minor": 2
}
