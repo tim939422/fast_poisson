{
 "cells": [
  {
   "cell_type": "code",
   "execution_count": 1,
   "metadata": {},
   "outputs": [],
   "source": [
    "import numpy as np\n",
    "import matplotlib.pyplot as plt\n",
    "\n",
    "from poisson_nn import poisson_v1, poisson_v2"
   ]
  },
  {
   "cell_type": "code",
   "execution_count": 2,
   "metadata": {},
   "outputs": [
    {
     "name": "stdout",
     "output_type": "stream",
     "text": [
      "True\n",
      "True\n"
     ]
    }
   ],
   "source": [
    "Nx = 256   ; Ny = 256\n",
    "Lx = 1     ; Ly = 1\n",
    "dx = Lx/Nx ; dy = Ly/Ny\n",
    "\n",
    "xx = np.arange(Nx)*dx + 0.5*dx; yy = np.arange(Ny)*dy + 0.5*dy\n",
    "x, y = np.meshgrid(xx, yy)\n",
    "\n",
    "f = -2*np.pi**2*np.cos(np.pi*x)*np.cos(np.pi*y)\n",
    "\n",
    "p_v1  = poisson_v1(Nx, Ny, dx, dy, f)\n",
    "p_v2 = poisson_v2(Nx, Ny, dx, dy, f)\n",
    "\n",
    "dpdx_v1 = np.gradient(p_v1, dx, axis=1)\n",
    "dpdy_v1 = np.gradient(p_v1, dy, axis=0)\n",
    "\n",
    "dpdx_v2 = np.gradient(p_v2, dx, axis=1)\n",
    "dpdy_v2 = np.gradient(p_v2, dy, axis=0)\n",
    "\n",
    "print(np.allclose(dpdx_v1, dpdx_v2))\n",
    "print(np.allclose(dpdy_v1, dpdy_v2))"
   ]
  },
  {
   "cell_type": "code",
   "execution_count": 3,
   "metadata": {},
   "outputs": [
    {
     "name": "stdout",
     "output_type": "stream",
     "text": [
      "True\n",
      "True\n"
     ]
    }
   ],
   "source": [
    "Nx = 256   ; Ny = 256\n",
    "Lx = 1     ; Ly = 1\n",
    "dx = Lx/Nx ; dy = Ly/Ny\n",
    "\n",
    "xx = np.arange(Nx)*dx + 0.5*dx; yy = np.arange(Ny)*dy + 0.5*dy\n",
    "x, y = np.meshgrid(xx, yy)\n",
    "\n",
    "f = (1 - 2*x)*(1 - 2*y)\n",
    "\n",
    "p_v1  = poisson_v1(Nx, Ny, dx, dy, f)\n",
    "p_v2 = poisson_v2(Nx, Ny, dx, dy, f)\n",
    "\n",
    "dpdx_v1 = np.gradient(p_v1, dx, axis=1)\n",
    "dpdy_v1 = np.gradient(p_v1, dy, axis=0)\n",
    "\n",
    "dpdx_v2 = np.gradient(p_v2, dx, axis=1)\n",
    "dpdy_v2 = np.gradient(p_v2, dy, axis=0)\n",
    "\n",
    "print(np.allclose(dpdx_v1, dpdx_v2))\n",
    "print(np.allclose(dpdy_v1, dpdy_v2))"
   ]
  }
 ],
 "metadata": {
  "kernelspec": {
   "display_name": "regular_stack",
   "language": "python",
   "name": "python3"
  },
  "language_info": {
   "codemirror_mode": {
    "name": "ipython",
    "version": 3
   },
   "file_extension": ".py",
   "mimetype": "text/x-python",
   "name": "python",
   "nbconvert_exporter": "python",
   "pygments_lexer": "ipython3",
   "version": "3.11.8"
  }
 },
 "nbformat": 4,
 "nbformat_minor": 2
}
