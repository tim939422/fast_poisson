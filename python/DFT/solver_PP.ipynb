{
 "cells": [
  {
   "cell_type": "code",
   "execution_count": 1,
   "metadata": {},
   "outputs": [],
   "source": [
    "import numpy as np\n",
    "from helpers import fftw_hc2r, fftw_r2hc\n",
    "import matplotlib.pyplot as plt\n",
    "import scienceplots\n",
    "plt.style.use([\"science\", \"notebook\"])"
   ]
  },
  {
   "cell_type": "code",
   "execution_count": 2,
   "metadata": {},
   "outputs": [
    {
     "name": "stdout",
     "output_type": "stream",
     "text": [
      "3.137466866479631e-06\n"
     ]
    }
   ],
   "source": [
    "L = 4*np.pi\n",
    "n = 2048\n",
    "dx = L/n\n",
    "\n",
    "lambda_k = 2*(np.cos(2*np.pi*np.arange(n)/n) - 1)\n",
    "laplacian_k = lambda_k/dx**2\n",
    "norm = 1/n\n",
    "\n",
    "x = np.arange(n)*dx + 0.5*dx\n",
    "\n",
    "# source term\n",
    "S = -np.sin(x)\n",
    "S_tilde = fftw_r2hc(S)\n",
    "phi_tilde = S_tilde/np.where(laplacian_k != 0.0, laplacian_k, 1)\n",
    "phi_tilde[0] = 0.0\n",
    "\n",
    "phi = norm*fftw_hc2r(phi_tilde)\n",
    "\n",
    "relative_error = np.linalg.norm(phi - np.sin(x))/np.linalg.norm(np.sin(x))\n",
    "print(relative_error)"
   ]
  }
 ],
 "metadata": {
  "kernelspec": {
   "display_name": "regular_stack",
   "language": "python",
   "name": "python3"
  },
  "language_info": {
   "codemirror_mode": {
    "name": "ipython",
    "version": 3
   },
   "file_extension": ".py",
   "mimetype": "text/x-python",
   "name": "python",
   "nbconvert_exporter": "python",
   "pygments_lexer": "ipython3",
   "version": "3.11.8"
  }
 },
 "nbformat": 4,
 "nbformat_minor": 2
}
